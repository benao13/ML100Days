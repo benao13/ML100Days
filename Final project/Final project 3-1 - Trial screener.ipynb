{
 "cells": [
  {
   "cell_type": "markdown",
   "metadata": {
    "id": "RTnv32wkA_Ox"
   },
   "source": [
    "# **作業說明**\n",
    "# (這是Udacity關於A/B Test的期末專題)\n",
    "\n",
    "Udacity希望了解，在免費14天試學網頁上，除了要信用卡資訊外，還想了解學生願意花多少小時學。如果少於某門檻(5小時)，就建議學生不要註冊，免費聽聽影音就好，免得浪費資源，降低學習成功率。\n",
    "\n",
    "我們的題目是，增加這個頁面，是否對Gross Conversion(GC)和Net Conversion (NC)在統計學上(Alpha=0.05，Power=0.8)有幫助(d=0.01/0.0075)，亦即統計上的顯著(Significant)。\n",
    "\n",
    "CI = click 數目\n",
    "\n",
    "GC = 註冊數/CI (聽了建議仍然註冊的比例)\n",
    "\n",
    "NC = 繳費數/CI (14天之後繳費且繼續的比例)\n",
    "\n",
    "我們期待GC比原來下降，但NC不降，這表示省去資源但收入不降。\n",
    "\n",
    "檔名：ab-tests-with-python.ipynb\n",
    "\n",
    "**作業目標**\n",
    "\n",
    "1.   經由範例程式，學習A/B Test 的步驟\n",
    "2.   最低樣本數的計算方法\n",
    "3.   自行開發信賴區間計算函數\n",
    "\n",
    "\n",
    "\n",
    "\n",
    "\n",
    "\n",
    "\n",
    "\n",
    "\n",
    "\n",
    "\n"
   ]
  },
  {
   "cell_type": "markdown",
   "metadata": {
    "id": "K2hnLtKrFS75"
   },
   "source": [
    "作業\n",
    "經由範例程式碼，熟悉A/B Test的步驟\n",
    "請同學逐步跟隨程式了解A/B Test步驟"
   ]
  },
  {
   "cell_type": "markdown",
   "metadata": {
    "id": "-lO_8AYwuEDY"
   },
   "source": [
    "# **作業 嘗試以函數算出樣本數**"
   ]
  },
  {
   "cell_type": "markdown",
   "metadata": {
    "id": "MKB09_mjFwjN"
   },
   "source": [
    "# **作業** 自行開發雙樣本比例的信賴區間函數\n"
   ]
  },
  {
   "cell_type": "code",
   "execution_count": 2,
   "metadata": {},
   "outputs": [],
   "source": [
    "# 載入函式庫\n",
    "import numpy as np\n",
    "import math as mt\n",
    "import pandas as pd\n",
    "from scipy.stats import norm"
   ]
  },
  {
   "cell_type": "code",
   "execution_count": 3,
   "metadata": {},
   "outputs": [],
   "source": [
    "# 制定 baseline\n",
    "baseline = {\"Cookies\": 40000, \"Clicks\": 3200, \"Enrollments\": 660, \"CTP\": 0.08, \"GConversion\": 0.20625,\n",
    "           \"Retention\": 0.53, \"NConversion\": 0.109313}"
   ]
  },
  {
   "cell_type": "code",
   "execution_count": 4,
   "metadata": {},
   "outputs": [
    {
     "data": {
      "text/plain": [
       "{'Cookies': 5000,\n",
       " 'Clicks': 400.0,\n",
       " 'Enrollments': 82.5,\n",
       " 'CTP': 0.08,\n",
       " 'GConversion': 0.20625,\n",
       " 'Retention': 0.53,\n",
       " 'NConversion': 0.109313}"
      ]
     },
     "execution_count": 4,
     "metadata": {},
     "output_type": "execute_result"
    }
   ],
   "source": [
    "# 以 Cookies=5000 為基準\n",
    "baseline[\"Cookies\"] = 5000\n",
    "baseline[\"Clicks\"] = baseline[\"Clicks\"]*(5000/40000)\n",
    "baseline[\"Enrollments\"] = baseline[\"Enrollments\"]*(5000/40000)\n",
    "baseline"
   ]
  },
  {
   "cell_type": "code",
   "execution_count": 5,
   "metadata": {},
   "outputs": [
    {
     "data": {
      "text/plain": [
       "{'d_min': 0.01, 'p': 0.20625, 'n': 400.0, 'sd': 0.0202}"
      ]
     },
     "execution_count": 5,
     "metadata": {},
     "output_type": "execute_result"
    }
   ],
   "source": [
    "# 計算 Gross Conversion (GC) 的 p, n, 及 Standard deviation (sd)\n",
    "GC = {}\n",
    "GC[\"d_min\"] = 0.01\n",
    "GC[\"p\"] = baseline[\"GConversion\"]\n",
    "GC[\"n\"] = baseline[\"Clicks\"]\n",
    "GC[\"sd\"] = round(mt.sqrt((GC[\"p\"] * (1 - GC[\"p\"])) / GC[\"n\"]), 4)\n",
    "GC"
   ]
  },
  {
   "cell_type": "code",
   "execution_count": 6,
   "metadata": {},
   "outputs": [
    {
     "data": {
      "text/plain": [
       "{'d_min': 0.01, 'p': 0.53, 'n': 82.5, 'sd': 0.0549}"
      ]
     },
     "execution_count": 6,
     "metadata": {},
     "output_type": "execute_result"
    }
   ],
   "source": [
    "# 計算 Retention (R) 的 p, n, 及 Standard deviation (sd)\n",
    "R = {}\n",
    "R[\"d_min\"] = 0.01\n",
    "R[\"p\"] = baseline[\"Retention\"]\n",
    "R[\"n\"] = baseline[\"Enrollments\"]\n",
    "R[\"sd\"] = round(mt.sqrt((R[\"p\"] * (1 - R[\"p\"])) / R[\"n\"]), 4)\n",
    "R"
   ]
  },
  {
   "cell_type": "code",
   "execution_count": 7,
   "metadata": {},
   "outputs": [
    {
     "data": {
      "text/plain": [
       "{'d_min': 0.0075, 'p': 0.109313, 'n': 400.0, 'sd': 0.0156}"
      ]
     },
     "execution_count": 7,
     "metadata": {},
     "output_type": "execute_result"
    }
   ],
   "source": [
    "# 計算 Net Conversion (NC) 的 p, n, 及 Standard deviation (sd)\n",
    "NC = {}\n",
    "NC[\"d_min\"] = 0.0075\n",
    "NC[\"p\"] = baseline[\"NConversion\"]\n",
    "NC[\"n\"] = baseline[\"Clicks\"]\n",
    "NC[\"sd\"] = round(mt.sqrt((NC[\"p\"] * (1 - NC[\"p\"])) / NC[\"n\"]), 4)\n",
    "NC"
   ]
  },
  {
   "cell_type": "code",
   "execution_count": 21,
   "metadata": {},
   "outputs": [
    {
     "name": "stdout",
     "output_type": "stream",
     "text": [
      "需求樣本數為 25231\n"
     ]
    }
   ],
   "source": [
    "# 作業：計算樣本數\n",
    "# 使用套件求樣本數\n",
    "import statsmodels.stats.api as sms\n",
    "from math import ceil\n",
    "\n",
    "effect_size = sms.proportion_effectsize(GC[\"p\"]-1.0*GC[\"d_min\"], GC[\"p\"]+0.0*GC[\"d_min\"])\n",
    "required_n = sms.NormalIndPower().solve_power(\n",
    "    effect_size,\n",
    "    power=0.8,\n",
    "    alpha=0.05,\n",
    "    ratio=1\n",
    ")\n",
    "required_n = ceil(required_n)\n",
    "print(\"需求樣本數為\", required_n)"
   ]
  },
  {
   "cell_type": "code",
   "execution_count": 9,
   "metadata": {},
   "outputs": [],
   "source": [
    "def get_z_score(alpha):\n",
    "    return norm.ppf(alpha)\n",
    "\n",
    "# 計算兩個標準差\n",
    "def get_sds(p, d):\n",
    "    sd1=mt.sqrt(2*p*(1-p))\n",
    "    sd2=mt.sqrt(p*(1-p)+(p+d)*(1-(p+d)))\n",
    "    sds=[sd1, sd2]\n",
    "    return sds\n",
    "\n",
    "# find sample size\n",
    "def get_sampSize(sds, alpha, beta, d):\n",
    "    n=pow((get_z_score(1-alpha/2)*sds[0]+get_z_score(1-beta)*sds[1]),2)/pow(d,2)\n",
    "    return n"
   ]
  },
  {
   "cell_type": "code",
   "execution_count": 10,
   "metadata": {},
   "outputs": [],
   "source": [
    "GC[\"d\"]=0.01\n",
    "R[\"d\"]=0.01\n",
    "NC[\"d\"]=0.0075"
   ]
  },
  {
   "cell_type": "code",
   "execution_count": 11,
   "metadata": {},
   "outputs": [
    {
     "data": {
      "text/plain": [
       "645875"
      ]
     },
     "execution_count": 11,
     "metadata": {},
     "output_type": "execute_result"
    }
   ],
   "source": [
    "# 從 GConversion 角度求樣本數\n",
    "GC[\"SampSize\"]=round(get_sampSize(get_sds(GC[\"p\"], GC[\"d\"]), 0.05, 0.2, GC[\"d\"]))\n",
    "GC[\"SampSize\"]=round(GC[\"SampSize\"]/baseline[\"CTP\"] *2)\n",
    "GC[\"SampSize\"]"
   ]
  },
  {
   "cell_type": "code",
   "execution_count": 12,
   "metadata": {},
   "outputs": [
    {
     "data": {
      "text/plain": [
       "4737818"
      ]
     },
     "execution_count": 12,
     "metadata": {},
     "output_type": "execute_result"
    }
   ],
   "source": [
    "# 從 Retention 角度求樣本數\n",
    "R[\"SampSize\"]=round(get_sampSize(get_sds(R[\"p\"], R[\"d\"]), 0.05, 0.2, R[\"d\"]))\n",
    "R[\"SampSize\"]=round(R[\"SampSize\"]/baseline[\"GConversion\"]/baseline[\"CTP\"] *2)\n",
    "R[\"SampSize\"]"
   ]
  },
  {
   "cell_type": "code",
   "execution_count": 13,
   "metadata": {},
   "outputs": [
    {
     "data": {
      "text/plain": [
       "685325"
      ]
     },
     "execution_count": 13,
     "metadata": {},
     "output_type": "execute_result"
    }
   ],
   "source": [
    "# 從 NConversion 角度求樣本數\n",
    "NC[\"SampSize\"]=round(get_sampSize(get_sds(NC[\"p\"], NC[\"d\"]), 0.05, 0.2, NC[\"d\"]))\n",
    "NC[\"SampSize\"]=round(NC[\"SampSize\"]/baseline[\"CTP\"] *2)\n",
    "NC[\"SampSize\"]"
   ]
  },
  {
   "cell_type": "code",
   "execution_count": 14,
   "metadata": {},
   "outputs": [
    {
     "data": {
      "text/html": [
       "<div>\n",
       "<style scoped>\n",
       "    .dataframe tbody tr th:only-of-type {\n",
       "        vertical-align: middle;\n",
       "    }\n",
       "\n",
       "    .dataframe tbody tr th {\n",
       "        vertical-align: top;\n",
       "    }\n",
       "\n",
       "    .dataframe thead th {\n",
       "        text-align: right;\n",
       "    }\n",
       "</style>\n",
       "<table border=\"1\" class=\"dataframe\">\n",
       "  <thead>\n",
       "    <tr style=\"text-align: right;\">\n",
       "      <th></th>\n",
       "      <th>Date</th>\n",
       "      <th>Pageviews</th>\n",
       "      <th>Clicks</th>\n",
       "      <th>Enrollments</th>\n",
       "      <th>Payments</th>\n",
       "    </tr>\n",
       "  </thead>\n",
       "  <tbody>\n",
       "    <tr>\n",
       "      <th>0</th>\n",
       "      <td>Sat, Oct 11</td>\n",
       "      <td>7723</td>\n",
       "      <td>687</td>\n",
       "      <td>134.0</td>\n",
       "      <td>70.0</td>\n",
       "    </tr>\n",
       "    <tr>\n",
       "      <th>1</th>\n",
       "      <td>Sun, Oct 12</td>\n",
       "      <td>9102</td>\n",
       "      <td>779</td>\n",
       "      <td>147.0</td>\n",
       "      <td>70.0</td>\n",
       "    </tr>\n",
       "    <tr>\n",
       "      <th>2</th>\n",
       "      <td>Mon, Oct 13</td>\n",
       "      <td>10511</td>\n",
       "      <td>909</td>\n",
       "      <td>167.0</td>\n",
       "      <td>95.0</td>\n",
       "    </tr>\n",
       "    <tr>\n",
       "      <th>3</th>\n",
       "      <td>Tue, Oct 14</td>\n",
       "      <td>9871</td>\n",
       "      <td>836</td>\n",
       "      <td>156.0</td>\n",
       "      <td>105.0</td>\n",
       "    </tr>\n",
       "    <tr>\n",
       "      <th>4</th>\n",
       "      <td>Wed, Oct 15</td>\n",
       "      <td>10014</td>\n",
       "      <td>837</td>\n",
       "      <td>163.0</td>\n",
       "      <td>64.0</td>\n",
       "    </tr>\n",
       "  </tbody>\n",
       "</table>\n",
       "</div>"
      ],
      "text/plain": [
       "          Date  Pageviews  Clicks  Enrollments  Payments\n",
       "0  Sat, Oct 11       7723     687        134.0      70.0\n",
       "1  Sun, Oct 12       9102     779        147.0      70.0\n",
       "2  Mon, Oct 13      10511     909        167.0      95.0\n",
       "3  Tue, Oct 14       9871     836        156.0     105.0\n",
       "4  Wed, Oct 15      10014     837        163.0      64.0"
      ]
     },
     "execution_count": 14,
     "metadata": {},
     "output_type": "execute_result"
    }
   ],
   "source": [
    "df_control = pd.read_csv(\"control_data.csv\", encoding=\"utf-8\")\n",
    "df_experiment = pd.read_csv(\"experiment_data.csv\", encoding=\"utf-8\")\n",
    "df_control.head()"
   ]
  },
  {
   "cell_type": "code",
   "execution_count": 29,
   "metadata": {},
   "outputs": [],
   "source": [
    "pageviews_cont = df_control[\"Pageviews\"].sum()\n",
    "pageviews_exp = df_experiment[\"Pageviews\"].sum()\n",
    "clicks_cont = df_control[\"Clicks\"].loc[df_control[\"Enrollments\"].notnull()].sum()\n",
    "clicks_exp = df_experiment[\"Clicks\"].loc[df_experiment[\"Enrollments\"].notnull()].sum()\n",
    "enrollments_cont = df_control[\"Enrollments\"].sum()\n",
    "enrollments_exp = df_experiment[\"Enrollments\"].sum()\n",
    "payments_cont = df_control[\"Payments\"].sum()\n",
    "payments_exp = df_experiment[\"Payments\"].sum()"
   ]
  },
  {
   "cell_type": "code",
   "execution_count": 32,
   "metadata": {},
   "outputs": [
    {
     "name": "stdout",
     "output_type": "stream",
     "text": [
      "The change due to the experiment is  -2.06 %\n",
      "Confidence interval: [ -0.0292 , -0.012 ]\n",
      "The change is statistically significant if the CI doesn't include 0. In that case, it is practically significant if -0.01 is not in the CI as well.\n"
     ]
    }
   ],
   "source": [
    "alpha=0.05\n",
    "GC_cont = enrollments_cont / clicks_cont\n",
    "GC_exp = enrollments_exp / clicks_exp\n",
    "GC_pooled = (enrollments_cont + enrollments_exp) / (clicks_cont + clicks_exp)\n",
    "GC_sd_pooled = mt.sqrt(GC_pooled*(1-GC_pooled)*(1/clicks_cont + 1/clicks_exp))\n",
    "GC_ME = round(get_z_score(1-alpha/2)*GC_sd_pooled, 4)\n",
    "GC_diff = round((GC_exp - GC_cont), 4)\n",
    "print(\"The change due to the experiment is \", GC_diff*100, \"%\")\n",
    "print(\"Confidence interval: [\",GC_diff-GC_ME,\",\",GC_diff+GC_ME,\"]\")\n",
    "print (\"The change is statistically significant if the CI doesn't include 0. In that case, it is practically significant if\",-GC[\"d_min\"],\"is not in the CI as well.\")"
   ]
  },
  {
   "cell_type": "code",
   "execution_count": 33,
   "metadata": {},
   "outputs": [
    {
     "name": "stdout",
     "output_type": "stream",
     "text": [
      "The change due to the experiment is  -0.49 %\n",
      "Confidence interval: [ -0.0116 , 0.0018000000000000004 ]\n",
      "The change is statistically significant if the CI doesn't include 0. In that case, it is practically significant if -0.0075 is not in the CI as well.\n"
     ]
    }
   ],
   "source": [
    "NC_cont = payments_cont / clicks_cont\n",
    "NC_exp = payments_exp / clicks_exp\n",
    "NC_pooled = (payments_cont + payments_exp) / (clicks_cont + clicks_exp)\n",
    "NC_sd_pooled = mt.sqrt(NC_pooled*(1-NC_pooled)*(1/clicks_cont + 1/clicks_exp))\n",
    "NC_ME = round(get_z_score(1-alpha/2)*NC_sd_pooled, 4)\n",
    "NC_diff = round((NC_exp - NC_cont), 4)\n",
    "print(\"The change due to the experiment is \", NC_diff*100, \"%\")\n",
    "print(\"Confidence interval: [\",NC_diff-NC_ME,\",\",NC_diff+NC_ME,\"]\")\n",
    "print (\"The change is statistically significant if the CI doesn't include 0. In that case, it is practically significant if\",-NC[\"d_min\"],\"is not in the CI as well.\")"
   ]
  },
  {
   "cell_type": "code",
   "execution_count": 38,
   "metadata": {},
   "outputs": [
    {
     "data": {
      "text/plain": [
       "(-0.020554874580361565, array([-0.02912016, -0.01198959]))"
      ]
     },
     "execution_count": 38,
     "metadata": {},
     "output_type": "execute_result"
    }
   ],
   "source": [
    "# 作業：自行開發雙樣本比例的信賴區間函數\n",
    "import scipy.stats as stats\n",
    "\n",
    "def two_proportions_confint(success_a, size_a, success_b, size_b, significance=0.05):\n",
    "    prop_a = success_a / size_a\n",
    "    prop_b = success_b / size_b\n",
    "    sd = np.sqrt(prop_a * (1 - prop_a) / size_a + prop_b * (1 - prop_b) / size_b)\n",
    "    confidence = 1 - significance\n",
    "    \n",
    "    z = stats.norm(loc=0, scale=1).ppf(confidence + significance / 2)\n",
    "    \n",
    "    prop_diff = prop_b - prop_a\n",
    "    confint = prop_diff + np.array([-1, 1]) * z * sd\n",
    "    return prop_diff, confint\n",
    "\n",
    "# CI for GConversion\n",
    "two_proportions_confint(enrollments_cont, clicks_cont, enrollments_exp, clicks_exp, significance=0.05)"
   ]
  },
  {
   "cell_type": "code",
   "execution_count": 39,
   "metadata": {},
   "outputs": [
    {
     "data": {
      "text/plain": [
       "(-0.0048737226745441675, array([-0.01160419,  0.00185674]))"
      ]
     },
     "execution_count": 39,
     "metadata": {},
     "output_type": "execute_result"
    }
   ],
   "source": [
    "# CI for NConversion\n",
    "two_proportions_confint(payments_cont, clicks_cont, payments_exp, clicks_exp, significance=0.05)"
   ]
  },
  {
   "cell_type": "code",
   "execution_count": null,
   "metadata": {},
   "outputs": [],
   "source": []
  }
 ],
 "metadata": {
  "colab": {
   "name": "ab-tests-with-python_作業.ipynb",
   "provenance": []
  },
  "kernelspec": {
   "display_name": "Python 3",
   "language": "python",
   "name": "python3"
  },
  "language_info": {
   "codemirror_mode": {
    "name": "ipython",
    "version": 3
   },
   "file_extension": ".py",
   "mimetype": "text/x-python",
   "name": "python",
   "nbconvert_exporter": "python",
   "pygments_lexer": "ipython3",
   "version": "3.8.5"
  }
 },
 "nbformat": 4,
 "nbformat_minor": 1
}
