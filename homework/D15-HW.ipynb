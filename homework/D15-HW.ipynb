{
 "cells": [
  {
   "cell_type": "markdown",
   "metadata": {
    "id": "WpY62-EDcs8F"
   },
   "source": [
    "作業目標:<br>\n",
    "1. 熟悉分組計算"
   ]
  },
  {
   "cell_type": "markdown",
   "metadata": {
    "id": "pXYQs1_9a6He"
   },
   "source": [
    "作業重點: <br>\n",
    "1. 分組計算也可以加入apply自定義的函數"
   ]
  },
  {
   "cell_type": "markdown",
   "metadata": {
    "id": "vysasgqxcupS"
   },
   "source": [
    "題目 : 運用下列分數資料分析<br>\n",
    "1. 找出全年級各科成績最高分與最低分?<br>\n",
    "2. 找出數學班平均最高的班級?<br>\n",
    "3. 分析全校女生與男生國文平均差幾分?<br>\n",
    "score_df = pd.DataFrame([[1,50,80,70,'boy',1],[2,60,45,50,'boy',2],[3,98,43,55,'boy',1],[4,70,69,89,'boy',2],[5,56,79,60,'girl',1],[6,60,68,55,'girl',2],[7,45,70,77,'girl',1],[8,55,77,76,'girl',2],[9,25,57,60,'girl',1],[10,88,40,43,'girl',3],[11,25,60,45,'boy',3],[12,80,60,23,'boy',3],[13,20,90,66,'girl',3],[14,50,50,50,'girl',3],[15,89,67,77,'girl',3]],columns=['student_id','math_score','english_score','chinese_score','sex','class'])"
   ]
  },
  {
   "cell_type": "code",
   "execution_count": 12,
   "metadata": {
    "colab": {
     "base_uri": "https://localhost:8080/",
     "height": 514
    },
    "executionInfo": {
     "elapsed": 1215,
     "status": "ok",
     "timestamp": 1608456627947,
     "user": {
      "displayName": "献竤黃",
      "photoUrl": "",
      "userId": "07529243043474362942"
     },
     "user_tz": -480
    },
    "id": "3WzHnm4zct7L",
    "outputId": "d36e7caa-72c8-40c5-e160-c3548a85af78"
   },
   "outputs": [
    {
     "data": {
      "text/html": [
       "<div>\n",
       "<style scoped>\n",
       "    .dataframe tbody tr th:only-of-type {\n",
       "        vertical-align: middle;\n",
       "    }\n",
       "\n",
       "    .dataframe tbody tr th {\n",
       "        vertical-align: top;\n",
       "    }\n",
       "\n",
       "    .dataframe thead th {\n",
       "        text-align: right;\n",
       "    }\n",
       "</style>\n",
       "<table border=\"1\" class=\"dataframe\">\n",
       "  <thead>\n",
       "    <tr style=\"text-align: right;\">\n",
       "      <th></th>\n",
       "      <th></th>\n",
       "      <th></th>\n",
       "      <th>math_score</th>\n",
       "      <th>english_score</th>\n",
       "      <th>chinese_score</th>\n",
       "    </tr>\n",
       "    <tr>\n",
       "      <th>class</th>\n",
       "      <th>student_id</th>\n",
       "      <th>sex</th>\n",
       "      <th></th>\n",
       "      <th></th>\n",
       "      <th></th>\n",
       "    </tr>\n",
       "  </thead>\n",
       "  <tbody>\n",
       "    <tr>\n",
       "      <th>1</th>\n",
       "      <th>1</th>\n",
       "      <th>boy</th>\n",
       "      <td>50</td>\n",
       "      <td>80</td>\n",
       "      <td>70</td>\n",
       "    </tr>\n",
       "    <tr>\n",
       "      <th>2</th>\n",
       "      <th>2</th>\n",
       "      <th>boy</th>\n",
       "      <td>60</td>\n",
       "      <td>45</td>\n",
       "      <td>50</td>\n",
       "    </tr>\n",
       "    <tr>\n",
       "      <th>1</th>\n",
       "      <th>3</th>\n",
       "      <th>boy</th>\n",
       "      <td>98</td>\n",
       "      <td>43</td>\n",
       "      <td>55</td>\n",
       "    </tr>\n",
       "    <tr>\n",
       "      <th>2</th>\n",
       "      <th>4</th>\n",
       "      <th>boy</th>\n",
       "      <td>70</td>\n",
       "      <td>69</td>\n",
       "      <td>89</td>\n",
       "    </tr>\n",
       "    <tr>\n",
       "      <th>1</th>\n",
       "      <th>5</th>\n",
       "      <th>girl</th>\n",
       "      <td>56</td>\n",
       "      <td>79</td>\n",
       "      <td>60</td>\n",
       "    </tr>\n",
       "    <tr>\n",
       "      <th>2</th>\n",
       "      <th>6</th>\n",
       "      <th>girl</th>\n",
       "      <td>60</td>\n",
       "      <td>68</td>\n",
       "      <td>55</td>\n",
       "    </tr>\n",
       "    <tr>\n",
       "      <th>1</th>\n",
       "      <th>7</th>\n",
       "      <th>girl</th>\n",
       "      <td>45</td>\n",
       "      <td>70</td>\n",
       "      <td>77</td>\n",
       "    </tr>\n",
       "    <tr>\n",
       "      <th>2</th>\n",
       "      <th>8</th>\n",
       "      <th>girl</th>\n",
       "      <td>55</td>\n",
       "      <td>77</td>\n",
       "      <td>76</td>\n",
       "    </tr>\n",
       "    <tr>\n",
       "      <th>1</th>\n",
       "      <th>9</th>\n",
       "      <th>girl</th>\n",
       "      <td>25</td>\n",
       "      <td>57</td>\n",
       "      <td>60</td>\n",
       "    </tr>\n",
       "    <tr>\n",
       "      <th rowspan=\"6\" valign=\"top\">3</th>\n",
       "      <th>10</th>\n",
       "      <th>girl</th>\n",
       "      <td>88</td>\n",
       "      <td>40</td>\n",
       "      <td>43</td>\n",
       "    </tr>\n",
       "    <tr>\n",
       "      <th>11</th>\n",
       "      <th>boy</th>\n",
       "      <td>25</td>\n",
       "      <td>60</td>\n",
       "      <td>45</td>\n",
       "    </tr>\n",
       "    <tr>\n",
       "      <th>12</th>\n",
       "      <th>boy</th>\n",
       "      <td>80</td>\n",
       "      <td>60</td>\n",
       "      <td>23</td>\n",
       "    </tr>\n",
       "    <tr>\n",
       "      <th>13</th>\n",
       "      <th>girl</th>\n",
       "      <td>20</td>\n",
       "      <td>90</td>\n",
       "      <td>66</td>\n",
       "    </tr>\n",
       "    <tr>\n",
       "      <th>14</th>\n",
       "      <th>girl</th>\n",
       "      <td>50</td>\n",
       "      <td>50</td>\n",
       "      <td>50</td>\n",
       "    </tr>\n",
       "    <tr>\n",
       "      <th>15</th>\n",
       "      <th>girl</th>\n",
       "      <td>89</td>\n",
       "      <td>67</td>\n",
       "      <td>77</td>\n",
       "    </tr>\n",
       "  </tbody>\n",
       "</table>\n",
       "</div>"
      ],
      "text/plain": [
       "                       math_score  english_score  chinese_score\n",
       "class student_id sex                                           \n",
       "1     1          boy           50             80             70\n",
       "2     2          boy           60             45             50\n",
       "1     3          boy           98             43             55\n",
       "2     4          boy           70             69             89\n",
       "1     5          girl          56             79             60\n",
       "2     6          girl          60             68             55\n",
       "1     7          girl          45             70             77\n",
       "2     8          girl          55             77             76\n",
       "1     9          girl          25             57             60\n",
       "3     10         girl          88             40             43\n",
       "      11         boy           25             60             45\n",
       "      12         boy           80             60             23\n",
       "      13         girl          20             90             66\n",
       "      14         girl          50             50             50\n",
       "      15         girl          89             67             77"
      ]
     },
     "execution_count": 12,
     "metadata": {},
     "output_type": "execute_result"
    }
   ],
   "source": [
    "import pandas as pd\n",
    "score_df = pd.DataFrame([[1,50,80,70,'boy',1], \n",
    "              [2,60,45,50,'boy',2],\n",
    "              [3,98,43,55,'boy',1],\n",
    "              [4,70,69,89,'boy',2],\n",
    "              [5,56,79,60,'girl',1],\n",
    "              [6,60,68,55,'girl',2],\n",
    "              [7,45,70,77,'girl',1],\n",
    "              [8,55,77,76,'girl',2],\n",
    "              [9,25,57,60,'girl',1],\n",
    "              [10,88,40,43,'girl',3],\n",
    "              [11,25,60,45,'boy',3],\n",
    "              [12,80,60,23,'boy',3],\n",
    "              [13,20,90,66,'girl',3],\n",
    "              [14,50,50,50,'girl',3],\n",
    "              [15,89,67,77,'girl',3]],columns=['student_id','math_score','english_score','chinese_score','sex','class'])\n",
    "new_score_df = score_df.set_index(['class', 'student_id', 'sex'])\n",
    "new_score_df"
   ]
  },
  {
   "cell_type": "code",
   "execution_count": 9,
   "metadata": {
    "id": "Zfs1uSNPfNBL"
   },
   "outputs": [
    {
     "name": "stdout",
     "output_type": "stream",
     "text": [
      "math_score       98\n",
      "english_score    90\n",
      "chinese_score    89\n",
      "dtype: int64\n",
      "math_score       20\n",
      "english_score    40\n",
      "chinese_score    23\n",
      "dtype: int64\n"
     ]
    }
   ],
   "source": [
    "#1.找出全年級各科成績最高分與最低分?\n",
    "print(new_score_df.max())\n",
    "print(new_score_df.min())"
   ]
  },
  {
   "cell_type": "code",
   "execution_count": 27,
   "metadata": {
    "id": "iZdLLEzYfPnW"
   },
   "outputs": [
    {
     "data": {
      "text/plain": [
       "Int64Index([2], dtype='int64', name='class')"
      ]
     },
     "execution_count": 27,
     "metadata": {},
     "output_type": "execute_result"
    }
   ],
   "source": [
    "#2.找出數學班平均最高的班級?\n",
    "temp = new_score_df.groupby('class').mean()\n",
    "temp[temp['math_score'] == temp['math_score'].max()].index"
   ]
  },
  {
   "cell_type": "code",
   "execution_count": 29,
   "metadata": {
    "id": "CWxb-2TqfbNK"
   },
   "outputs": [
    {
     "data": {
      "text/plain": [
       "7.333333333333329"
      ]
     },
     "execution_count": 29,
     "metadata": {},
     "output_type": "execute_result"
    }
   ],
   "source": [
    "#3.分析全校女生與男生國文平均差幾分?\n",
    "temp1 = new_score_df.groupby('sex').mean()\n",
    "abs(temp1.loc['boy', 'chinese_score'] - temp1.loc['girl', 'chinese_score'])"
   ]
  },
  {
   "cell_type": "code",
   "execution_count": null,
   "metadata": {
    "id": "aBC5K-q6jFvb"
   },
   "outputs": [],
   "source": []
  }
 ],
 "metadata": {
  "colab": {
   "collapsed_sections": [],
   "name": "作業題目.ipynb",
   "provenance": []
  },
  "kernelspec": {
   "display_name": "Python 3",
   "language": "python",
   "name": "python3"
  },
  "language_info": {
   "codemirror_mode": {
    "name": "ipython",
    "version": 3
   },
   "file_extension": ".py",
   "mimetype": "text/x-python",
   "name": "python",
   "nbconvert_exporter": "python",
   "pygments_lexer": "ipython3",
   "version": "3.8.5"
  }
 },
 "nbformat": 4,
 "nbformat_minor": 1
}
