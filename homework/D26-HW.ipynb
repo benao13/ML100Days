{
 "cells": [
  {
   "cell_type": "markdown",
   "metadata": {},
   "source": [
    "## 作業:\n",
    "今天學到不同統計量之間特性，  \n",
    "試著分析男生女生身高資料，  \n",
    "試著回答下面的問題:  \n",
    "Q1:試著用今天所教的內容，如何描述這兩組資料的樣態?    \n",
    "Q2: 請問男生和女生在平均身高上誰比較高?   \n",
    "Q3:請問第二題的答案和日常生活中觀察的一致嗎? 如果不一致，你覺得原因可能為何?    \n",
    "上述問題透過  python 語法進行運算，\n",
    "並將上述答案填寫在 (google 表單)[https://forms.gle/EDdU2Zfq8zLvDea18]\n",
    "![](作業資料圖檔.PNG)"
   ]
  },
  {
   "cell_type": "code",
   "execution_count": 1,
   "metadata": {
    "colab": {
     "base_uri": "https://localhost:8080/",
     "height": 34
    },
    "colab_type": "code",
    "executionInfo": {
     "elapsed": 1558,
     "status": "ok",
     "timestamp": 1578021044012,
     "user": {
      "displayName": "Mora chen",
      "photoUrl": "https://lh3.googleusercontent.com/a-/AAuE7mB40f7sDArbZ5_DYq02nNcnLD0Ryaf7AhsASSQeLQ=s64",
      "userId": "03171203089166907199"
     },
     "user_tz": -480
    },
    "id": "yz28_IgkYdBW",
    "outputId": "a12f486c-18b3-4fb5-d06c-f162aebd9444"
   },
   "outputs": [],
   "source": [
    "# library\n",
    "import matplotlib.pyplot as plt\n",
    "import numpy as np\n",
    "import pandas as pd\n",
    "from scipy import stats\n",
    "import math\n",
    "import statistics\n",
    "import seaborn as sns"
   ]
  },
  {
   "cell_type": "code",
   "execution_count": 2,
   "metadata": {},
   "outputs": [],
   "source": [
    "## 輸入資料\n",
    "boys = [164, 175, 183, 173, 176, 159, 165, 165, 169, 151, \n",
    "        156, 163, 169, 144, 170, 177, 165, 160, 164, 171]\n",
    "girls = [169, 170, 162, 154, 183, 173, 169, 167, 170, 185,\n",
    "        162, 175, 168, 151, 181, 170, 182, 156, 159, 160]"
   ]
  },
  {
   "cell_type": "code",
   "execution_count": 3,
   "metadata": {},
   "outputs": [
    {
     "name": "stdout",
     "output_type": "stream",
     "text": [
      "boys_mean= 165.95\n",
      "boys_median= 165.0\n",
      "boys_mode= ModeResult(mode=array([165]), count=array([3]))\n",
      "boys_range= 39\n",
      "boys_variance= 84.8921052631579\n",
      "boys_std 9.213691185575838\n",
      "boys_skewness: -0.4713212731737694\n",
      "boys_kurtosis: 0.19395882957876243\n"
     ]
    },
    {
     "data": {
      "image/png": "[encoded data removed]",
      "text/plain": [
       "<Figure size 432x288 with 1 Axes>"
      ]
     },
     "metadata": {
      "needs_background": "light"
     },
     "output_type": "display_data"
    }
   ],
   "source": [
    "#Q1:試著用今天所教的內容，如何描述這兩組資料的樣態?\n",
    "#暗示:  分別計算男生和女生的統計量\n",
    "print(\"boys_mean=\", np.mean(boys))\n",
    "print(\"boys_median=\", np.median(boys))\n",
    "print(\"boys_mode=\", stats.mode(boys, axis=None))\n",
    "\n",
    "def rangeV(x):\n",
    "    return(max(x)-min(x))\n",
    "\n",
    "print(\"boys_range=\", rangeV(boys))\n",
    "print(\"boys_variance=\", np.var(boys, ddof=1))\n",
    "print(\"boys_std\", np.std(boys, ddof=1))\n",
    "\n",
    "print(\"boys_skewness:\", stats.skew(boys))\n",
    "print(\"boys_kurtosis:\", stats.kurtosis(boys))\n",
    "\n",
    "plt.hist(boys, alpha=0.5, bins=20)\n",
    "plt.title(\"boys, skewness={0}, Kurtosis{1}\".format(round(stats.skew(boys), 2), round(stats.kurtosis(boys), 2)))\n",
    "plt.axvline(x=np.mean(boys))\n",
    "plt.show()"
   ]
  },
  {
   "cell_type": "code",
   "execution_count": 4,
   "metadata": {},
   "outputs": [
    {
     "name": "stdout",
     "output_type": "stream",
     "text": [
      "girls_mean= 168.3\n",
      "girls_median= 169.0\n",
      "girls_mode= ModeResult(mode=array([170]), count=array([3]))\n",
      "girls_range= 34\n",
      "girls_variance= 95.37894736842104\n",
      "girls_std 9.766214587465353\n",
      "girls_skewness: 0.059853211293650746\n",
      "girls_kurtosis: -0.8203607083948947\n"
     ]
    },
    {
     "data": {
      "image/png": "[encoded data removed]",
      "text/plain": [
       "<Figure size 432x288 with 1 Axes>"
      ]
     },
     "metadata": {
      "needs_background": "light"
     },
     "output_type": "display_data"
    }
   ],
   "source": [
    "print(\"girls_mean=\", np.mean(girls))\n",
    "print(\"girls_median=\", np.median(girls))\n",
    "print(\"girls_mode=\", stats.mode(girls, axis=None))\n",
    "\n",
    "print(\"girls_range=\", rangeV(girls))\n",
    "print(\"girls_variance=\", np.var(girls, ddof=1))\n",
    "print(\"girls_std\", np.std(girls, ddof=1))\n",
    "\n",
    "print(\"girls_skewness:\", stats.skew(girls))\n",
    "print(\"girls_kurtosis:\", stats.kurtosis(girls))\n",
    "\n",
    "plt.hist(girls, alpha=0.5, bins=20)\n",
    "plt.title(\"girls, skewness={0}, Kurtosis{1}\".format(round(stats.skew(girls), 2), round(stats.kurtosis(girls), 2)))\n",
    "plt.axvline(x=np.mean(girls))\n",
    "plt.show()"
   ]
  },
  {
   "cell_type": "code",
   "execution_count": 5,
   "metadata": {},
   "outputs": [
    {
     "name": "stdout",
     "output_type": "stream",
     "text": [
      "女生平均身高比較高\n"
     ]
    }
   ],
   "source": [
    "#Q2: 請問男生和女生在平均身高上誰比較高? \n",
    "if np.mean(boys) > np.mean(girls):\n",
    "    print(\"男生平均身高比較高\")\n",
    "else:\n",
    "    print(\"女生平均身高比較高\")"
   ]
  },
  {
   "cell_type": "code",
   "execution_count": 6,
   "metadata": {},
   "outputs": [],
   "source": [
    "#Q3:請問第二題的答案和日常生活中觀察的一致嗎? 如果不一致，你覺得原因可能為何? \n",
    "# 須進一步比對樣本的年齡、居住地區、抽樣時間與方法等資料，如果比較基礎一致，此結果與日常觀察並不一致。\n",
    "# 與日常觀察不一致的原因除了前述部分外，樣本數較小也有可能是原因之一"
   ]
  },
  {
   "cell_type": "code",
   "execution_count": null,
   "metadata": {},
   "outputs": [],
   "source": []
  }
 ],
 "metadata": {
  "colab": {
   "name": "Day33.YOLO 細節理解 - 網路輸出的後處理_HW.ipynb",
   "provenance": []
  },
  "kernelspec": {
   "display_name": "Python 3",
   "language": "python",
   "name": "python3"
  },
  "language_info": {
   "codemirror_mode": {
    "name": "ipython",
    "version": 3
   },
   "file_extension": ".py",
   "mimetype": "text/x-python",
   "name": "python",
   "nbconvert_exporter": "python",
   "pygments_lexer": "ipython3",
   "version": "3.8.5"
  }
 },
 "nbformat": 4,
 "nbformat_minor": 1
}
